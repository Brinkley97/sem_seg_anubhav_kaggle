{
 "cells": [
  {
   "cell_type": "markdown",
   "id": "6fc5452d",
   "metadata": {},
   "source": [
    "# Semantic Segmentation\n",
    "1. by : Anubhav Singh\n",
    "2. [Kaggle Link](https://www.kaggle.com/anubhav1302/semantic-segmentation)"
   ]
  },
  {
   "cell_type": "code",
   "execution_count": 4,
   "id": "78ca7082",
   "metadata": {},
   "outputs": [],
   "source": [
    "import numpy as np\n",
    "import os\n",
    "import cv2\n",
    "import tensorflow as tf\n",
    "import matplotlib.pyplot as plt\n",
    "from skimage import io\n",
    "from glob import glob\n",
    "from tqdm import tqdm"
   ]
  },
  {
   "cell_type": "markdown",
   "id": "3b5158dc",
   "metadata": {},
   "source": [
    "## Set-up\n",
    "\n",
    "1. Get the paths of both the training set & validation set\n",
    "2. Load the images to use w/ func \"def load_imgs()\""
   ]
  },
  {
   "cell_type": "code",
   "execution_count": 5,
   "id": "70c8d1c6",
   "metadata": {},
   "outputs": [],
   "source": [
    "train_path = 'data/train'\n",
    "val_path = 'data/val'"
   ]
  },
  {
   "cell_type": "code",
   "execution_count": 7,
   "id": "a98a936e",
   "metadata": {},
   "outputs": [
    {
     "name": "stderr",
     "output_type": "stream",
     "text": [
      "100%|████████████████████████████████████████████████████████████████████████████████████████████████████████████████████| 2975/2975 [00:06<00:00, 448.13it/s]\n",
      "100%|██████████████████████████████████████████████████████████████████████████████████████████████████████████████████████| 500/500 [00:01<00:00, 450.35it/s]\n"
     ]
    }
   ],
   "source": [
    "train_imgs = []\n",
    "train_masks = []\n",
    "\n",
    "val_imgs = []\n",
    "val_masks = []\n",
    "\n",
    "def load_imgs(path) :\n",
    "    temp_img = []\n",
    "    temp_mask = []\n",
    "    \n",
    "    imgs = glob(os.path.join(path, '*jpg'))\n",
    "    \n",
    "    for image in tqdm(imgs) :\n",
    "        image = cv2.imread(image)\n",
    "        \n",
    "#         cv.normalize(src, dst[, alpha[, beta[, norm_type[, dtype[, mask]]]]]) -> dst\n",
    "        image = cv2.normalize(image, None, 0, 1, cv2.NORM_MINMAX, cv2.CV_32F)\n",
    "        img = image[:, : 256]\n",
    "        msk = image[:, 256 :]\n",
    "        \n",
    "        temp_img.append(img)\n",
    "        temp_mask.append(msk)\n",
    "        \n",
    "    return temp_img, temp_mask\n",
    "\n",
    "train_imgs, train_masks = load_imgs(train_path)\n",
    "val_imgs, val_masks = load_imgs(val_path)"
   ]
  },
  {
   "cell_type": "code",
   "execution_count": null,
   "id": "e790ec77",
   "metadata": {},
   "outputs": [],
   "source": []
  }
 ],
 "metadata": {
  "kernelspec": {
   "display_name": "Python 3",
   "language": "python",
   "name": "python3"
  },
  "language_info": {
   "codemirror_mode": {
    "name": "ipython",
    "version": 3
   },
   "file_extension": ".py",
   "mimetype": "text/x-python",
   "name": "python",
   "nbconvert_exporter": "python",
   "pygments_lexer": "ipython3",
   "version": "3.7.5"
  }
 },
 "nbformat": 4,
 "nbformat_minor": 5
}
