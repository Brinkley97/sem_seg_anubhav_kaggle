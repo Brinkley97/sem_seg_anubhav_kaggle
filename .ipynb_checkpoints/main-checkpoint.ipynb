{
 "cells": [
  {
   "cell_type": "markdown",
   "id": "6fc5452d",
   "metadata": {},
   "source": [
    "# Semantic Segmentation\n",
    "1. by : Anubhav Singh\n",
    "2. [Kaggle Link](https://www.kaggle.com/anubhav1302/semantic-segmentation)"
   ]
  },
  {
   "cell_type": "code",
   "execution_count": 4,
   "id": "78ca7082",
   "metadata": {},
   "outputs": [],
   "source": [
    "import numpy as np\n",
    "import os\n",
    "import cv2\n",
    "import tensorflow as tf\n",
    "import matplotlib.pyplot as plt\n",
    "from skimage import io\n",
    "from glob import glob\n",
    "from tqdm import tqdm"
   ]
  },
  {
   "cell_type": "markdown",
   "id": "3b5158dc",
   "metadata": {},
   "source": [
    "## Set-up\n",
    "\n",
    "1. Get the paths of both the training set & validation set\n",
    "2. Load the images to use w/ func \"def load_imgs()\"\n",
    "\n",
    "\n",
    "### Questions \n",
    "1. Why do I have to run this everytime I open the notebook?\n",
    "2. What's masks?\n",
    "3. Why normalize?"
   ]
  },
  {
   "cell_type": "code",
   "execution_count": 5,
   "id": "70c8d1c6",
   "metadata": {},
   "outputs": [],
   "source": [
    "train_path = 'data/train'\n",
    "val_path = 'data/val'"
   ]
  },
  {
   "cell_type": "code",
   "execution_count": 6,
   "id": "a98a936e",
   "metadata": {},
   "outputs": [
    {
     "name": "stderr",
     "output_type": "stream",
     "text": [
      "100%|███████████████████████████████████████████████████████████████████████████████████████████████████████████████████████████████████| 2975/2975 [00:05<00:00, 537.31it/s]\n",
      "100%|█████████████████████████████████████████████████████████████████████████████████████████████████████████████████████████████████████| 500/500 [00:00<00:00, 506.76it/s]\n"
     ]
    }
   ],
   "source": [
    "train_imgs = []\n",
    "train_masks = []\n",
    "\n",
    "val_imgs = []\n",
    "val_masks = []\n",
    "\n",
    "def load_imgs(path) :\n",
    "    temp_img = []\n",
    "    temp_mask = []\n",
    "    \n",
    "    imgs = glob(os.path.join(path, '*jpg'))\n",
    "    \n",
    "    for image in tqdm(imgs) :\n",
    "        image = cv2.imread(image)\n",
    "        \n",
    "#         cv.normalize(src, dst[, alpha[, beta[, norm_type[, dtype[, mask]]]]]) -> dst\n",
    "        image = cv2.normalize(image, None, 0, 1, cv2.NORM_MINMAX, cv2.CV_32F)\n",
    "        img = image[:, : 256]\n",
    "        msk = image[:, 256 :]\n",
    "        \n",
    "        temp_img.append(img)\n",
    "        temp_mask.append(msk)\n",
    "        \n",
    "    return temp_img, temp_mask\n",
    "\n",
    "train_imgs, train_masks = load_imgs(train_path)\n",
    "val_imgs, val_masks = load_imgs(val_path)"
   ]
  },
  {
   "cell_type": "markdown",
   "id": "e5f845f1",
   "metadata": {},
   "source": [
    "# Placeholders\n",
    "1. tf.placeholder \n",
    "    1. dtype, tf.\n",
    "    2. shape, [_, w, h, d]\n",
    "    3. name, name = ''"
   ]
  },
  {
   "cell_type": "code",
   "execution_count": 7,
   "id": "61aba54c",
   "metadata": {},
   "outputs": [],
   "source": [
    "image = tf.compat.v1.placeholder(tf.float32, [None, 256, 256, 3], name = 'Input_image')\n",
    "image = tf.compat.v1.placeholder(tf.float32, [None, 256, 256, 3], name = 'Input_mask')"
   ]
  },
  {
   "cell_type": "markdown",
   "id": "50c16f0c",
   "metadata": {},
   "source": [
    "# Hidden Layer Functions\n",
    "\n",
    "1. relu\n",
    "2. convolution\n",
    "3. max pooling\n",
    "3. convolution transpose "
   ]
  },
  {
   "cell_type": "code",
   "execution_count": 8,
   "id": "e790ec77",
   "metadata": {},
   "outputs": [],
   "source": [
    "def lrelu(x, threshold = 0.1) :\n",
    "    get_max = tf.maximum(x, x * threshold)\n",
    "    return get_max\n",
    "\n",
    "def conv_layer(x, n_filts, kern_size, strd, padding='SAME') :\n",
    "    x = tf.layers.conv2d(x, filters = n_filts, kernel_size = kern_size, strides = strd, padding = padding)\n",
    "    x = tf.nn.relu(x)\n",
    "    return x\n",
    "\n",
    "# diffs from his\n",
    "def max_pooling(x, pool_size) :\n",
    "    x = tf.layers.max_pooling2d(x, pool_size = pool_size)\n",
    "    return x\n",
    "\n",
    "def conv_transpose(x, n_filts, kern_size, strd, padding='SAME') :\n",
    "    x = tf.layers.conv2d.transpose(x, filters = n_filts, kernel_size = kern_size, strides = strd, padding = padding)\n",
    "    x = tf.nn.relu(x)\n",
    "    return x"
   ]
  },
  {
   "cell_type": "markdown",
   "id": "c0703bbf",
   "metadata": {},
   "source": [
    " # Beta Network"
   ]
  },
  {
   "cell_type": "code",
   "execution_count": 14,
   "id": "c15f6a62",
   "metadata": {},
   "outputs": [],
   "source": [
    "layer_1 = conv_layer(image, n_filts = 64, kern_size = 4, strd = 1)\n",
    "mp_1 = tf.layers.max_pooling2d(layer_1, pool_size = 2, strides = 2)"
   ]
  },
  {
   "cell_type": "code",
   "execution_count": null,
   "id": "ee9d9f39",
   "metadata": {},
   "outputs": [],
   "source": []
  }
 ],
 "metadata": {
  "kernelspec": {
   "display_name": "Python 3 (ipykernel)",
   "language": "python",
   "name": "python3"
  },
  "language_info": {
   "codemirror_mode": {
    "name": "ipython",
    "version": 3
   },
   "file_extension": ".py",
   "mimetype": "text/x-python",
   "name": "python",
   "nbconvert_exporter": "python",
   "pygments_lexer": "ipython3",
   "version": "3.7.11"
  }
 },
 "nbformat": 4,
 "nbformat_minor": 5
}
