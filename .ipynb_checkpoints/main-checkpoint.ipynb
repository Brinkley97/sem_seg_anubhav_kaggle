{
 "cells": [
  {
   "cell_type": "markdown",
   "id": "6fc5452d",
   "metadata": {},
   "source": [
    "# Semantic Segmentation\n",
    "1. by : Anubhav Singh\n",
    "2. [Kaggle Link](https://www.kaggle.com/anubhav1302/semantic-segmentation)"
   ]
  },
  {
   "cell_type": "code",
   "execution_count": 3,
   "id": "78ca7082",
   "metadata": {},
   "outputs": [],
   "source": [
    "import numpy as np\n",
    "import os\n",
    "import cv2\n",
    "import tensorflow as tf\n",
    "import matplotlib.pyplot as plt\n",
    "from skimage import io\n",
    "from glob import glob\n",
    "from tqdm import tqdm"
   ]
  },
  {
   "cell_type": "markdown",
   "id": "3b5158dc",
   "metadata": {},
   "source": [
    "## Set-up\n",
    "\n",
    "1. Get the paths of both the training set & validation set\n",
    "2. Load the images to use w/ func \"def load_imgs()\"\n",
    "\n",
    "\n",
    "### Questions \n",
    "1. Why do I have to run this everytime I open the notebook?\n",
    "2. What's masks?\n",
    "3. Why normalize?"
   ]
  },
  {
   "cell_type": "code",
   "execution_count": 4,
   "id": "70c8d1c6",
   "metadata": {},
   "outputs": [],
   "source": [
    "train_path = 'data/train'\n",
    "val_path = 'data/val'"
   ]
  },
  {
   "cell_type": "code",
   "execution_count": 5,
   "id": "a98a936e",
   "metadata": {},
   "outputs": [
    {
     "name": "stderr",
     "output_type": "stream",
     "text": [
      "100%|███████████████████████████████████████████████████████████████████████████████████████████████████████| 2975/2975 [00:05<00:00, 558.62it/s]\n",
      "100%|█████████████████████████████████████████████████████████████████████████████████████████████████████████| 500/500 [00:00<00:00, 561.01it/s]\n"
     ]
    }
   ],
   "source": [
    "train_imgs = []\n",
    "train_masks = []\n",
    "\n",
    "val_imgs = []\n",
    "val_masks = []\n",
    "\n",
    "def load_imgs(path) :\n",
    "    temp_img = []\n",
    "    temp_mask = []\n",
    "    \n",
    "    imgs = glob(os.path.join(path, '*jpg'))\n",
    "    \n",
    "    for image in tqdm(imgs) :\n",
    "        image = cv2.imread(image)\n",
    "        \n",
    "#         cv.normalize(src, dst[, alpha[, beta[, norm_type[, dtype[, mask]]]]]) -> dst\n",
    "        image = cv2.normalize(image, None, 0, 1, cv2.NORM_MINMAX, cv2.CV_32F)\n",
    "        img = image[:, : 256]\n",
    "        msk = image[:, 256 :]\n",
    "        \n",
    "        temp_img.append(img)\n",
    "        temp_mask.append(msk)\n",
    "        \n",
    "    return temp_img, temp_mask\n",
    "\n",
    "train_imgs, train_masks = load_imgs(train_path)\n",
    "val_imgs, val_masks = load_imgs(val_path)"
   ]
  },
  {
   "cell_type": "markdown",
   "id": "e5f845f1",
   "metadata": {},
   "source": [
    "# Placeholders\n",
    "1. tf.placeholder \n",
    "    1. dtype, tf.\n",
    "    2. shape, [_, w, h, d]\n",
    "    3. name, name = ''"
   ]
  },
  {
   "cell_type": "code",
   "execution_count": 6,
   "id": "61aba54c",
   "metadata": {},
   "outputs": [],
   "source": [
    "image = tf.compat.v1.placeholder(tf.float32, [None, 256, 256, 3], name = 'Input_image')\n",
    "mask = tf.compat.v1.placeholder(tf.float32, [None, 256, 256, 3], name = 'Input_mask')"
   ]
  },
  {
   "cell_type": "markdown",
   "id": "50c16f0c",
   "metadata": {},
   "source": [
    "# Hidden Layer Functions\n",
    "\n",
    "1. relu\n",
    "2. convolution\n",
    "3. max pooling\n",
    "3. convolution transpose "
   ]
  },
  {
   "cell_type": "code",
   "execution_count": 7,
   "id": "e790ec77",
   "metadata": {},
   "outputs": [],
   "source": [
    "def lrelu(x, threshold = 0.1) :\n",
    "    get_max = tf.maximum(x, x * threshold)\n",
    "    return get_max\n",
    "\n",
    "def conv_layer(x, n_filts, kern_size, strd, padding='SAME') :\n",
    "    x = tf.layers.conv2d(x, filters = n_filts, kernel_size = kern_size, strides = strd, padding = padding)\n",
    "    x = tf.nn.relu(x)\n",
    "    return x\n",
    "\n",
    "# diffs from his\n",
    "def max_pooling(x, pool_size) :\n",
    "    x = tf.layers.max_pooling2d(x, pool_size = pool_size)\n",
    "    return x\n",
    "\n",
    "def conv_trans(x, n_filts, kern_size, strd, padding='SAME') :\n",
    "    x = tf.layers.conv2d_transpose(x, filters = n_filts, kernel_size = kern_size, strides = strd, padding = padding)\n",
    "    x = tf.nn.relu(x)\n",
    "    return x"
   ]
  },
  {
   "cell_type": "markdown",
   "id": "c0703bbf",
   "metadata": {},
   "source": [
    " # Beta Network\n",
    " 1. conda install gast==0.2.2 for below to work"
   ]
  },
  {
   "cell_type": "code",
   "execution_count": 8,
   "id": "d8db158e",
   "metadata": {},
   "outputs": [],
   "source": [
    "k_s = 4\n",
    "conv_strd = 1\n",
    "\n",
    "p_s = 2\n",
    "pool_strd = 2"
   ]
  },
  {
   "cell_type": "code",
   "execution_count": 9,
   "id": "c15f6a62",
   "metadata": {},
   "outputs": [
    {
     "name": "stdout",
     "output_type": "stream",
     "text": [
      "WARNING:tensorflow:From /var/folders/fz/zn5r8vq12nv5p23dtlr15sk40000gn/T/ipykernel_4103/3877005748.py:6: conv2d (from tensorflow.python.layers.convolutional) is deprecated and will be removed in a future version.\n",
      "Instructions for updating:\n",
      "Use `tf.keras.layers.Conv2D` instead.\n",
      "WARNING:tensorflow:From /Users/brinkley97/opt/anaconda3/envs/sem_seg_anubhav_kaggle/lib/python3.7/site-packages/tensorflow/python/ops/init_ops.py:1251: calling VarianceScaling.__init__ (from tensorflow.python.ops.init_ops) with dtype is deprecated and will be removed in a future version.\n",
      "Instructions for updating:\n",
      "Call initializer instance with the dtype argument instead of passing it to the constructor\n",
      "WARNING:tensorflow:From /var/folders/fz/zn5r8vq12nv5p23dtlr15sk40000gn/T/ipykernel_4103/34967275.py:3: max_pooling2d (from tensorflow.python.layers.pooling) is deprecated and will be removed in a future version.\n",
      "Instructions for updating:\n",
      "Use keras.layers.MaxPooling2D instead.\n"
     ]
    }
   ],
   "source": [
    "# Branch 0\n",
    "layer_1_b0 = conv_layer(image, n_filts = 64, kern_size = k_s, strd = conv_strd)\n",
    "mp_1_b0 = tf.layers.max_pooling2d(layer_1_b0, pool_size = p_s, strides = pool_strd)\n",
    "\n",
    "# print(\"Layer 1 shapes : \\n>>layer 1 : \", layer_1_b0.shape, \"\\n>>pooling layer : \", mp_1_b0.shape)\n",
    "    \n",
    "layer_2_b0 = conv_layer(mp_1_b0, n_filts = 128, kern_size = k_s, strd = conv_strd)\n",
    "mp_2_b0 = tf.layers.max_pooling2d(layer_2_b0, pool_size = p_s, strides = pool_strd)\n",
    "\n",
    "# print(\"\\nLayer 1 shapes : \\n>>layer 2 : \", layer_2_b0.shape, \"\\n>>pooling layer : \", mp_2_b0.shape)\n",
    "\n",
    "layer_3_b0 = conv_layer(mp_2_b0, n_filts = 256, kern_size = k_s, strd = conv_strd)\n",
    "mp_3_b0 = tf.layers.max_pooling2d(layer_3_b0, pool_size = p_s, strides = pool_strd)\n",
    "\n",
    "# print(\"\\nLayer 1 shapes : \\n>>layer 3 : \", layer_3_b0.shape, \"\\n>>pooling layer : \", mp_3_b0.shape)\n",
    "\n",
    "layer_4_b0 = conv_layer(mp_3_b0, n_filts = 512, kern_size = k_s, strd = conv_strd)\n",
    "mp_4_b0 = tf.layers.max_pooling2d(layer_4_b0, pool_size = p_s, strides = pool_strd)\n",
    "\n",
    "# print(\"\\nLayer 1 shapes : \\n>>layer 4 : \", layer_4_b0.shape, \"\\n>>pooling layer : \", mp_4_b0.shape)\n",
    "\n",
    "layer_5_b0 = conv_layer(mp_4_b0, n_filts = 1024, kern_size = k_s, strd = conv_strd)\n",
    "mp_5_b0 = tf.layers.max_pooling2d(layer_5_b0, pool_size = p_s, strides = pool_strd)\n",
    "\n",
    "# print(\"\\nLayer 1 shapes : \\n>>layer 5 : \", layer_5_b0.shape, \"\\n>>pooling layer : \", mp_5_b0.shape)\n"
   ]
  },
  {
   "cell_type": "code",
   "execution_count": 10,
   "id": "ee9d9f39",
   "metadata": {},
   "outputs": [],
   "source": [
    "# Branch 1\n",
    "layer_b1 = conv_layer(image, n_filts = 128, kern_size = k_s, strd = conv_strd)\n",
    "mp_b1 = tf.layers.max_pooling2d(layer_b1, pool_size = p_s, strides = pool_strd)\n",
    "\n",
    "beta_1 = tf.keras.layers.add([layer_2_b0, mp_b1])\n",
    "\n",
    "layer_b2 = conv_layer(beta_1, n_filts = 256, kern_size = k_s, strd = conv_strd)\n",
    "mp_b2 = tf.layers.max_pooling2d(layer_b2, pool_size = p_s, strides = pool_strd)\n",
    "\n",
    "beta_2 = tf.keras.layers.add([layer_3_b0, mp_b2])\n",
    "\n",
    "layer_b3 = conv_layer(beta_2, n_filts = 512, kern_size = k_s, strd = conv_strd)\n",
    "mp_b3 = tf.layers.max_pooling2d(layer_b3, pool_size = p_s, strides = pool_strd)\n",
    "\n",
    "beta_3 = tf.keras.layers.add([layer_4_b0, mp_b3])\n",
    "\n",
    "layer_b4 = conv_layer(beta_3, n_filts = 1024, kern_size = k_s, strd = conv_strd)\n",
    "mp_b4 = tf.layers.max_pooling2d(layer_b4, pool_size = p_s, strides = pool_strd)\n",
    "\n",
    "beta_4 = tf.keras.layers.add([layer_5_b0, mp_b4])\n",
    "beta_0 = layer_1_b0"
   ]
  },
  {
   "cell_type": "code",
   "execution_count": 11,
   "id": "efde7b17",
   "metadata": {},
   "outputs": [
    {
     "name": "stdout",
     "output_type": "stream",
     "text": [
      "WARNING:tensorflow:From /var/folders/fz/zn5r8vq12nv5p23dtlr15sk40000gn/T/ipykernel_4103/3971203962.py:5: batch_normalization (from tensorflow.python.layers.normalization) is deprecated and will be removed in a future version.\n",
      "Instructions for updating:\n",
      "Use keras.layers.BatchNormalization instead.  In particular, `tf.control_dependencies(tf.GraphKeys.UPDATE_OPS)` should not be used (consult the `tf.keras.layers.batch_normalization` documentation).\n"
     ]
    }
   ],
   "source": [
    "# Downsample : 64, 128, 256, 512, 1024\n",
    "x_layer_1 = conv_layer(image, n_filts = 64, kern_size = 5, strd = 1)\n",
    "x_layer_1 = conv_layer(x_layer_1, n_filts = 64, kern_size = 4, strd = 1)\n",
    "x_layer_1 = conv_layer(x_layer_1, n_filts = 64, kern_size = 4, strd = 2)\n",
    "x_batch_1 = tf.layers.batch_normalization(x_layer_1)\n",
    "\n",
    "# print(\"Size of 64 x_batch_1 : \\n\", x_batch_1.shape)\n",
    "\n",
    "x_layer_2 = conv_layer(x_batch_1, n_filts = 128, kern_size = 5, strd = 1)\n",
    "x_layer_2 = conv_layer(x_layer_2, n_filts = 128, kern_size = 4, strd = 1)\n",
    "x_layer_2 = conv_layer(x_layer_2, n_filts = 128, kern_size = 4, strd = 2)\n",
    "x_batch_2 = tf.layers.batch_normalization(x_layer_2)\n",
    "\n",
    "# print(\"\\nSize of 128 x_batch_2 : \\n\", x_batch_2.shape)\n",
    "\n",
    "x_layer_3 = conv_layer(x_batch_2, n_filts = 256, kern_size = 5, strd = 1)\n",
    "x_layer_3 = conv_layer(x_layer_3, n_filts = 256, kern_size = 4, strd = 1)\n",
    "x_layer_3 = conv_layer(x_layer_3, n_filts = 256, kern_size = 4, strd = 2)\n",
    "x_batch_3 = tf.layers.batch_normalization(x_layer_3)\n",
    "\n",
    "# print(\"\\nSize of 256 x_batch_3 : \\n\", x_batch_3.shape)\n",
    "\n",
    "x_layer_4 = conv_layer(x_batch_3, n_filts = 512, kern_size = 5, strd = 1)\n",
    "x_layer_4 = conv_layer(x_layer_4, n_filts = 512, kern_size = 4, strd = 1)\n",
    "x_layer_4 = conv_layer(x_layer_4, n_filts = 512, kern_size = 4, strd = 2)\n",
    "x_batch_4 = tf.layers.batch_normalization(x_layer_4)\n",
    "\n",
    "# print(\"\\nSize of 512 x_batch_4 : \\n\", x_batch_4.shape)\n",
    "\n",
    "x_layer_5 = conv_layer(x_batch_4, n_filts = 1024, kern_size = 4, strd = 1)\n",
    "x_layer_5 = conv_layer(x_batch_4, n_filts = 1024, kern_size = 4, strd = 8)\n",
    "x_batch_5 = tf.layers.batch_normalization(x_layer_5)\n",
    "\n",
    "# print(\"\\nSize of 1024 x_batch_5 : \\n\", x_batch_5.shape)"
   ]
  },
  {
   "cell_type": "code",
   "execution_count": 12,
   "id": "bc5f7f45",
   "metadata": {},
   "outputs": [
    {
     "name": "stdout",
     "output_type": "stream",
     "text": [
      "WARNING:tensorflow:From /var/folders/fz/zn5r8vq12nv5p23dtlr15sk40000gn/T/ipykernel_4103/3877005748.py:16: conv2d_transpose (from tensorflow.python.layers.convolutional) is deprecated and will be removed in a future version.\n",
      "Instructions for updating:\n",
      "Use `tf.keras.layers.Conv2DTranspose` instead.\n"
     ]
    }
   ],
   "source": [
    "# Upsample : 1024, 512, 256, 128, 64\n",
    "y_layer_1 = conv_trans(x_batch_5, n_filts = 1024, kern_size = 4, strd = 8)\n",
    "y_layer_1 = tf.keras.layers.add([y_layer_1, beta_4])\n",
    "y_layer_1 = conv_layer(y_layer_1, n_filts = 1024, kern_size = 4, strd = 1)\n",
    "y_batch_1 = tf.layers.batch_normalization(y_layer_1)\n",
    "\n",
    "y_layer_2 = conv_trans(y_batch_1, n_filts = 512, kern_size = 5, strd = 2)\n",
    "y_layer_2 = tf.keras.layers.add([y_layer_2, beta_3])\n",
    "y_layer_2 = conv_layer(y_layer_2, n_filts = 512, kern_size = 4, strd = 1)\n",
    "y_layer_2 = conv_layer(y_layer_2, n_filts = 512, kern_size = 4, strd = 1)\n",
    "y_batch_2 = tf.layers.batch_normalization(y_layer_2)\n",
    "\n",
    "y_layer_3 = conv_trans(y_batch_2, n_filts = 256, kern_size = 2, strd = 2)\n",
    "y_layer_3 = tf.keras.layers.add([y_layer_3, beta_2])\n",
    "y_layer_3 = conv_layer(y_layer_3, n_filts = 256, kern_size = 4, strd = 1)\n",
    "y_layer_3 = conv_layer(y_layer_3, n_filts = 256, kern_size = 4, strd = 1)\n",
    "y_batch_3 = tf.layers.batch_normalization(y_layer_3)\n",
    "\n",
    "y_layer_4 = conv_trans(y_batch_3, n_filts = 128, kern_size = 3, strd = 2)\n",
    "y_layer_4 = tf.keras.layers.add([y_layer_4, beta_1])\n",
    "y_layer_4 = conv_layer(y_layer_4, n_filts = 128, kern_size = 4, strd = 1)\n",
    "y_layer_4 = conv_layer(y_layer_4, n_filts = 128, kern_size = 4, strd = 1)\n",
    "y_batch_4 = tf.layers.batch_normalization(y_layer_4)\n",
    "\n",
    "y_layer_5 = conv_trans(y_batch_4, n_filts = 64, kern_size = 2, strd = 2)\n",
    "y_layer_5 = tf.keras.layers.add([y_layer_5, beta_0])\n",
    "y_layer_5 = conv_layer(y_layer_5, n_filts = 64, kern_size = 4, strd = 1)\n",
    "y_layer_5 = conv_layer(y_layer_5, n_filts = 64, kern_size = 4, strd = 1)\n",
    "y_batch_5 = tf.layers.batch_normalization(y_layer_5)"
   ]
  },
  {
   "cell_type": "code",
   "execution_count": 13,
   "id": "45575996",
   "metadata": {},
   "outputs": [],
   "source": [
    "out = tf.layers.conv2d(y_batch_5, activation = None, filters = 3, kernel_size = 1, strides = 1, padding = 'SAME')"
   ]
  },
  {
   "cell_type": "code",
   "execution_count": 14,
   "id": "dc08164a",
   "metadata": {},
   "outputs": [
    {
     "name": "stdout",
     "output_type": "stream",
     "text": [
      "WARNING:tensorflow:From /Users/brinkley97/opt/anaconda3/envs/sem_seg_anubhav_kaggle/lib/python3.7/site-packages/tensorflow/python/ops/nn_impl.py:180: add_dispatch_support.<locals>.wrapper (from tensorflow.python.ops.array_ops) is deprecated and will be removed in a future version.\n",
      "Instructions for updating:\n",
      "Use tf.where in 2.0, which has the same broadcast rule as np.where\n"
     ]
    }
   ],
   "source": [
    "loss = tf.reduce_mean(tf.nn.sigmoid_cross_entropy_with_logits(labels=mask,logits=out))\n",
    "train_op = tf.compat.v1.train.AdamOptimizer(learning_rate=0.0001).minimize(loss)"
   ]
  },
  {
   "cell_type": "code",
   "execution_count": 15,
   "id": "d96aef61",
   "metadata": {},
   "outputs": [],
   "source": [
    "num_epochs = 100\n",
    "batch_size = 25\n",
    "train_batches = len(train_imgs) // batch_size\n",
    "val_batches = len(val_imgs) // batch_size\n",
    "train_loss,val_loss = [],[]\n",
    "saver = tf.compat.v1.train.Saver()"
   ]
  },
  {
   "cell_type": "code",
   "execution_count": null,
   "id": "a0f01845",
   "metadata": {},
   "outputs": [
    {
     "name": "stderr",
     "output_type": "stream",
     "text": [
      "2022-02-18 11:06:54.634350: I tensorflow/core/platform/cpu_feature_guard.cc:145] This TensorFlow binary is optimized with Intel(R) MKL-DNN to use the following CPU instructions in performance critical operations:  SSE4.1 SSE4.2 AVX AVX2 FMA\n",
      "To enable them in non-MKL-DNN operations, rebuild TensorFlow with the appropriate compiler flags.\n",
      "2022-02-18 11:06:54.634974: I tensorflow/core/common_runtime/process_util.cc:115] Creating new thread pool with default inter op setting: 16. Tune using inter_op_parallelism_threads for best performance.\n",
      "  0%|                                                                                                                    | 0/119 [00:00<?, ?it/s]"
     ]
    },
    {
     "name": "stdout",
     "output_type": "stream",
     "text": [
      "======================================\n",
      "Epoch:  1\n",
      "In Training..\n"
     ]
    }
   ],
   "source": [
    "with tf.compat.v1.Session() as sess:\n",
    "    \n",
    "    sess.run(tf.compat.v1.global_variables_initializer())\n",
    "    \n",
    "    for epoch in range(num_epochs):\n",
    "        print('======================================')\n",
    "        print('Epoch: ',(epoch+1))\n",
    "        print('In Training..')\n",
    "        \n",
    "        for batch in tqdm(range(train_batches)):\n",
    "            train_img_batch = train_imgs[batch * batch_size:(batch + 1) * batch_size]\n",
    "            train_msk_batch = train_masks[batch * batch_size:(batch + 1) * batch_size]\n",
    "            \n",
    "            #reshape images and masks\n",
    "            train_img_batch = np.reshape(train_img_batch,(len(train_img_batch), 256, 256, 3))\n",
    "            train_msk_batch = np.reshape(train_msk_batch,(len(train_msk_batch), 256, 256, 3))\n",
    "            t_loss,_ = sess.run([loss,train_op],feed_dict = {\n",
    "                    image:train_img_batch,mask:train_msk_batch})\n",
    "            \n",
    "        print('In Validation..')\n",
    "        for v_batch in tqdm(range(val_batches)):\n",
    "            val_img_batch = val_images[v_batch * batch_size:(v_batch + 1) *batch_size]\n",
    "            val_msk_batch = val_masks[v_batch * batch_size:(v_batch + 1) * batch_size]\n",
    "            \n",
    "            #Reshape batches\n",
    "            val_img_batch = np.reshape(val_img_batch, (len(val_img_batch), 256, 256, 3))\n",
    "            val_msk_batch = np.reshape(val_msk_batch, (len(val_msk_batch), 256, 256, 3))\n",
    "            v_loss,_ = sess.run([loss,train_op],feed_dict = {image:val_img_batch, mask:val_msk_batch})\n",
    "        train_loss.append(t_loss)\n",
    "        val_loss.append(v_loss)\n",
    "        \n",
    "        print('Train Loss: ', t_loss)\n",
    "        print('Val Loss: ', v_loss)\n",
    "    saver.save(sess, \"model.ckpt\")"
   ]
  },
  {
   "cell_type": "code",
   "execution_count": null,
   "id": "4136e51a",
   "metadata": {},
   "outputs": [],
   "source": []
  }
 ],
 "metadata": {
  "kernelspec": {
   "display_name": "Python 3 (ipykernel)",
   "language": "python",
   "name": "python3"
  },
  "language_info": {
   "codemirror_mode": {
    "name": "ipython",
    "version": 3
   },
   "file_extension": ".py",
   "mimetype": "text/x-python",
   "name": "python",
   "nbconvert_exporter": "python",
   "pygments_lexer": "ipython3",
   "version": "3.7.11"
  }
 },
 "nbformat": 4,
 "nbformat_minor": 5
}
