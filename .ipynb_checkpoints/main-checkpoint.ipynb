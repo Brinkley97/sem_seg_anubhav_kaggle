{
 "cells": [
  {
   "cell_type": "markdown",
   "id": "6fc5452d",
   "metadata": {},
   "source": [
    "# Semantic Segmentation\n",
    "1. by : Anubhav Singh\n",
    "2. [Kaggle Link](https://www.kaggle.com/anubhav1302/semantic-segmentation)"
   ]
  },
  {
   "cell_type": "code",
   "execution_count": 12,
   "id": "78ca7082",
   "metadata": {},
   "outputs": [],
   "source": [
    "import numpy as np\n",
    "import os\n",
    "import cv2\n",
    "import tensorflow as tf\n",
    "import matplotlib.pyplot as plt\n",
    "from skimage import io\n",
    "from glob import glob\n",
    "from tqdm import tqdm"
   ]
  },
  {
   "cell_type": "markdown",
   "id": "3b5158dc",
   "metadata": {},
   "source": [
    "## Set-up\n",
    "\n",
    "1. Get the paths of both the training set & validation set\n",
    "2. Load the images to use w/ func \"def load_imgs()\"\n",
    "\n",
    "\n",
    "### Questions \n",
    "1. Why do I have to run this everytime I open the notebook?\n",
    "2. What's masks?\n",
    "3. Why normalize?"
   ]
  },
  {
   "cell_type": "code",
   "execution_count": 2,
   "id": "70c8d1c6",
   "metadata": {},
   "outputs": [],
   "source": [
    "train_path = 'data/train'\n",
    "val_path = 'data/val'"
   ]
  },
  {
   "cell_type": "code",
   "execution_count": 13,
   "id": "a98a936e",
   "metadata": {},
   "outputs": [
    {
     "name": "stderr",
     "output_type": "stream",
     "text": [
      "100%|███████████████████████████████████████████████████████████████████████████████████████████████████████████████████████████████████| 2975/2975 [00:04<00:00, 643.35it/s]\n",
      "100%|█████████████████████████████████████████████████████████████████████████████████████████████████████████████████████████████████████| 500/500 [00:00<00:00, 580.33it/s]\n"
     ]
    }
   ],
   "source": [
    "train_imgs = []\n",
    "train_masks = []\n",
    "\n",
    "val_imgs = []\n",
    "val_masks = []\n",
    "\n",
    "def load_imgs(path) :\n",
    "    temp_img = []\n",
    "    temp_mask = []\n",
    "    \n",
    "    imgs = glob(os.path.join(path, '*jpg'))\n",
    "    \n",
    "    for image in tqdm(imgs) :\n",
    "        image = cv2.imread(image)\n",
    "        \n",
    "#         cv.normalize(src, dst[, alpha[, beta[, norm_type[, dtype[, mask]]]]]) -> dst\n",
    "        image = cv2.normalize(image, None, 0, 1, cv2.NORM_MINMAX, cv2.CV_32F)\n",
    "        img = image[:, : 256]\n",
    "        msk = image[:, 256 :]\n",
    "        \n",
    "        temp_img.append(img)\n",
    "        temp_mask.append(msk)\n",
    "        \n",
    "    return temp_img, temp_mask\n",
    "\n",
    "train_imgs, train_masks = load_imgs(train_path)\n",
    "val_imgs, val_masks = load_imgs(val_path)"
   ]
  },
  {
   "cell_type": "markdown",
   "id": "e5f845f1",
   "metadata": {},
   "source": [
    "# Placeholders\n",
    "1. tf.placeholder \n",
    "    1. dtype, tf.\n",
    "    2. shape, [_, w, h, d]\n",
    "    3. name, name = ''"
   ]
  },
  {
   "cell_type": "code",
   "execution_count": 14,
   "id": "61aba54c",
   "metadata": {},
   "outputs": [],
   "source": [
    "image = tf.compat.v1.placeholder(tf.float32, [None, 256, 256, 3], name = 'Input_image')\n",
    "mask = tf.compat.v1.placeholder(tf.float32, [None, 256, 256, 3], name = 'Input_mask')"
   ]
  },
  {
   "cell_type": "markdown",
   "id": "50c16f0c",
   "metadata": {},
   "source": [
    "# Hidden Layer Functions\n",
    "\n",
    "1. relu\n",
    "2. convolution\n",
    "3. max pooling\n",
    "3. convolution transpose "
   ]
  },
  {
   "cell_type": "code",
   "execution_count": 15,
   "id": "e790ec77",
   "metadata": {},
   "outputs": [],
   "source": [
    "def lrelu(x, threshold = 0.1) :\n",
    "    get_max = tf.maximum(x, x * threshold)\n",
    "    return get_max\n",
    "\n",
    "def conv_layer(x, n_filts, kern_size, strd, padding='SAME') :\n",
    "    x = tf.layers.conv2d(x, filters = n_filts, kernel_size = kern_size, strides = strd, padding = padding)\n",
    "    x = tf.nn.relu(x)\n",
    "    return x\n",
    "\n",
    "# diffs from his\n",
    "def max_pooling(x, pool_size) :\n",
    "    x = tf.layers.max_pooling2d(x, pool_size = pool_size)\n",
    "    return x\n",
    "\n",
    "def conv_trans(x, n_filts, kern_size, strd, padding='SAME') :\n",
    "    x = tf.layers.conv2d_transpose(x, filters = n_filts, kernel_size = kern_size, strides = strd, padding = padding)\n",
    "    x = tf.nn.relu(x)\n",
    "    return x"
   ]
  },
  {
   "cell_type": "markdown",
   "id": "c0703bbf",
   "metadata": {},
   "source": [
    " # Beta Network\n",
    " 1. conda install gast==0.2.2 for below to work"
   ]
  },
  {
   "cell_type": "code",
   "execution_count": 16,
   "id": "d8db158e",
   "metadata": {},
   "outputs": [],
   "source": [
    "k_s = 4\n",
    "conv_strd = 1\n",
    "\n",
    "p_s = 2\n",
    "pool_strd = 2"
   ]
  },
  {
   "cell_type": "code",
   "execution_count": 17,
   "id": "c15f6a62",
   "metadata": {},
   "outputs": [
    {
     "name": "stdout",
     "output_type": "stream",
     "text": [
      "Layer 1 shapes : \n",
      ">>layer 1 :  (?, 256, 256, 64) \n",
      ">>pooling layer :  (?, 128, 128, 64)\n",
      "\n",
      "Layer 1 shapes : \n",
      ">>layer 2 :  (?, 128, 128, 128) \n",
      ">>pooling layer :  (?, 64, 64, 128)\n",
      "\n",
      "Layer 1 shapes : \n",
      ">>layer 3 :  (?, 64, 64, 256) \n",
      ">>pooling layer :  (?, 32, 32, 256)\n",
      "\n",
      "Layer 1 shapes : \n",
      ">>layer 4 :  (?, 32, 32, 512) \n",
      ">>pooling layer :  (?, 16, 16, 512)\n",
      "\n",
      "Layer 1 shapes : \n",
      ">>layer 5 :  (?, 16, 16, 1024) \n",
      ">>pooling layer :  (?, 8, 8, 1024)\n"
     ]
    }
   ],
   "source": [
    "# Branch 0\n",
    "layer_1_b0 = conv_layer(image, n_filts = 64, kern_size = k_s, strd = conv_strd)\n",
    "mp_1_b0 = tf.layers.max_pooling2d(layer_1_b0, pool_size = p_s, strides = pool_strd)\n",
    "\n",
    "print(\"Layer 1 shapes : \\n>>layer 1 : \", layer_1_b0.shape, \"\\n>>pooling layer : \", mp_1_b0.shape)\n",
    "    \n",
    "layer_2_b0 = conv_layer(mp_1_b0, n_filts = 128, kern_size = k_s, strd = conv_strd)\n",
    "mp_2_b0 = tf.layers.max_pooling2d(layer_2_b0, pool_size = p_s, strides = pool_strd)\n",
    "\n",
    "print(\"\\nLayer 1 shapes : \\n>>layer 2 : \", layer_2_b0.shape, \"\\n>>pooling layer : \", mp_2_b0.shape)\n",
    "\n",
    "layer_3_b0 = conv_layer(mp_2_b0, n_filts = 256, kern_size = k_s, strd = conv_strd)\n",
    "mp_3_b0 = tf.layers.max_pooling2d(layer_3_b0, pool_size = p_s, strides = pool_strd)\n",
    "\n",
    "print(\"\\nLayer 1 shapes : \\n>>layer 3 : \", layer_3_b0.shape, \"\\n>>pooling layer : \", mp_3_b0.shape)\n",
    "\n",
    "layer_4_b0 = conv_layer(mp_3_b0, n_filts = 512, kern_size = k_s, strd = conv_strd)\n",
    "mp_4_b0 = tf.layers.max_pooling2d(layer_4_b0, pool_size = p_s, strides = pool_strd)\n",
    "\n",
    "print(\"\\nLayer 1 shapes : \\n>>layer 4 : \", layer_4_b0.shape, \"\\n>>pooling layer : \", mp_4_b0.shape)\n",
    "\n",
    "layer_5_b0 = conv_layer(mp_4_b0, n_filts = 1024, kern_size = k_s, strd = conv_strd)\n",
    "mp_5_b0 = tf.layers.max_pooling2d(layer_5_b0, pool_size = p_s, strides = pool_strd)\n",
    "\n",
    "print(\"\\nLayer 1 shapes : \\n>>layer 5 : \", layer_5_b0.shape, \"\\n>>pooling layer : \", mp_5_b0.shape)\n"
   ]
  },
  {
   "cell_type": "code",
   "execution_count": 18,
   "id": "ee9d9f39",
   "metadata": {},
   "outputs": [],
   "source": [
    "# Branch 1\n",
    "layer_b1 = conv_layer(image, n_filts = 128, kern_size = k_s, strd = conv_strd)\n",
    "mp_b1 = tf.layers.max_pooling2d(layer_b1, pool_size = p_s, strides = pool_strd)\n",
    "\n",
    "beta_1 = tf.keras.layers.add([layer_2_b0, mp_b1])\n",
    "\n",
    "layer_b2 = conv_layer(beta_1, n_filts = 256, kern_size = k_s, strd = conv_strd)\n",
    "mp_b2 = tf.layers.max_pooling2d(layer_b2, pool_size = p_s, strides = pool_strd)\n",
    "\n",
    "beta_2 = tf.keras.layers.add([layer_3_b0, mp_b2])\n",
    "\n",
    "layer_b3 = conv_layer(beta_2, n_filts = 512, kern_size = k_s, strd = conv_strd)\n",
    "mp_b3 = tf.layers.max_pooling2d(layer_b3, pool_size = p_s, strides = pool_strd)\n",
    "\n",
    "beta_3 = tf.keras.layers.add([layer_4_b0, mp_b3])\n",
    "\n",
    "layer_b4 = conv_layer(beta_3, n_filts = 1024, kern_size = k_s, strd = conv_strd)\n",
    "mp_b4 = tf.layers.max_pooling2d(layer_b4, pool_size = p_s, strides = pool_strd)\n",
    "\n",
    "beta_4 = tf.keras.layers.add([layer_5_b0, mp_b4])\n",
    "beta_0 = layer_1_b0"
   ]
  },
  {
   "cell_type": "code",
   "execution_count": 19,
   "id": "efde7b17",
   "metadata": {},
   "outputs": [
    {
     "name": "stdout",
     "output_type": "stream",
     "text": [
      "Size of 64 x_batch_1 : \n",
      " (?, 128, 128, 64)\n",
      "\n",
      "Size of 128 x_batch_2 : \n",
      " (?, 64, 64, 128)\n",
      "\n",
      "Size of 256 x_batch_3 : \n",
      " (?, 32, 32, 256)\n",
      "\n",
      "Size of 512 x_batch_4 : \n",
      " (?, 16, 16, 512)\n",
      "\n",
      "Size of 1024 x_batch_5 : \n",
      " (?, 2, 2, 1024)\n"
     ]
    }
   ],
   "source": [
    "# Downsample : 64, 128, 256, 512, 1024\n",
    "x_layer_1 = conv_layer(image, n_filts = 64, kern_size = 5, strd = 1)\n",
    "x_layer_1 = conv_layer(x_layer_1, n_filts = 64, kern_size = 4, strd = 1)\n",
    "x_layer_1 = conv_layer(x_layer_1, n_filts = 64, kern_size = 4, strd = 2)\n",
    "x_batch_1 = tf.layers.batch_normalization(x_layer_1) \n",
    "print(\"Size of 64 x_batch_1 : \\n\", x_batch_1.shape)\n",
    "\n",
    "x_layer_2 = conv_layer(x_batch_1, n_filts = 128, kern_size = 5, strd = 1)\n",
    "x_layer_2 = conv_layer(x_layer_2, n_filts = 128, kern_size = 4, strd = 1)\n",
    "x_layer_2 = conv_layer(x_layer_2, n_filts = 128, kern_size = 4, strd = 2)\n",
    "x_batch_2 = tf.layers.batch_normalization(x_layer_2) \n",
    "print(\"\\nSize of 128 x_batch_2 : \\n\", x_batch_2.shape)\n",
    "\n",
    "x_layer_3 = conv_layer(x_batch_2, n_filts = 256, kern_size = 5, strd = 1)\n",
    "x_layer_3 = conv_layer(x_layer_3, n_filts = 256, kern_size = 4, strd = 1)\n",
    "x_layer_3 = conv_layer(x_layer_3, n_filts = 256, kern_size = 4, strd = 2)\n",
    "x_batch_3 = tf.layers.batch_normalization(x_layer_3) \n",
    "print(\"\\nSize of 256 x_batch_3 : \\n\", x_batch_3.shape)\n",
    "\n",
    "x_layer_4 = conv_layer(x_batch_3, n_filts = 512, kern_size = 5, strd = 1)\n",
    "x_layer_4 = conv_layer(x_layer_4, n_filts = 512, kern_size = 4, strd = 1)\n",
    "x_layer_4 = conv_layer(x_layer_4, n_filts = 512, kern_size = 4, strd = 2)\n",
    "x_batch_4 = tf.layers.batch_normalization(x_layer_4) \n",
    "print(\"\\nSize of 512 x_batch_4 : \\n\", x_batch_4.shape)\n",
    "\n",
    "x_layer_5 = conv_layer(x_batch_4, n_filts = 1024, kern_size = 4, strd = 1)\n",
    "x_layer_5 = conv_layer(x_batch_4, n_filts = 1024, kern_size = 4, strd = 8)\n",
    "x_batch_5 = tf.layers.batch_normalization(x_layer_5) \n",
    "print(\"\\nSize of 1024 x_batch_5 : \\n\", x_batch_5.shape)"
   ]
  },
  {
   "cell_type": "code",
   "execution_count": 20,
   "id": "bc5f7f45",
   "metadata": {},
   "outputs": [],
   "source": [
    "# Upsample : 1024, 512, 256, 128, 64\n",
    "y_layer_1 = conv_trans(x_batch_5, n_filts = 1024, kern_size = 4, strd = 8)\n",
    "y_layer_1 = tf.keras.layers.add([y_layer_1, beta_4])\n",
    "y_layer_1 = conv_layer(y_layer_1, n_filts = 1024, kern_size = 4, strd = 1)\n",
    "y_batch_1 = tf.layers.batch_normalization(y_layer_1)\n",
    "\n",
    "y_layer_2 = conv_trans(y_batch_1, n_filts = 512, kern_size = 5, strd = 2)\n",
    "y_layer_2 = tf.keras.layers.add([y_layer_2, beta_3])\n",
    "y_layer_2 = conv_layer(y_layer_2, n_filts = 512, kern_size = 4, strd = 1)\n",
    "y_layer_2 = conv_layer(y_layer_2, n_filts = 512, kern_size = 4, strd = 1)\n",
    "y_batch_2 = tf.layers.batch_normalization(y_layer_2)\n",
    "\n",
    "y_layer_3 = conv_trans(y_batch_2, n_filts = 256, kern_size = 2, strd = 2)\n",
    "y_layer_3 = tf.keras.layers.add([y_layer_3, beta_2])\n",
    "y_layer_3 = conv_layer(y_layer_3, n_filts = 256, kern_size = 4, strd = 1)\n",
    "y_layer_3 = conv_layer(y_layer_3, n_filts = 256, kern_size = 4, strd = 1)\n",
    "y_batch_3 = tf.layers.batch_normalization(y_layer_3)\n",
    "\n",
    "y_layer_4 = conv_trans(y_batch_3, n_filts = 128, kern_size = 3, strd = 2)\n",
    "y_layer_4 = tf.keras.layers.add([y_layer_4, beta_1])\n",
    "y_layer_4 = conv_layer(y_layer_4, n_filts = 128, kern_size = 4, strd = 1)\n",
    "y_layer_4 = conv_layer(y_layer_4, n_filts = 128, kern_size = 4, strd = 1)\n",
    "y_batch_4 = tf.layers.batch_normalization(y_layer_4)\n",
    "\n",
    "y_layer_5 = conv_trans(y_batch_4, n_filts = 64, kern_size = 2, strd = 2)\n",
    "y_layer_5 = tf.keras.layers.add([y_layer_5, beta_0])\n",
    "y_layer_5 = conv_layer(y_layer_5, n_filts = 64, kern_size = 4, strd = 1)\n",
    "y_layer_5 = conv_layer(y_layer_5, n_filts = 64, kern_size = 4, strd = 1)\n",
    "y_batch_5 = tf.layers.batch_normalization(y_layer_5)"
   ]
  },
  {
   "cell_type": "code",
   "execution_count": 21,
   "id": "45575996",
   "metadata": {},
   "outputs": [],
   "source": [
    "out = tf.layers.conv2d(y_batch_5, activation = None, filters = 3, kernel_size = 1, strides = 1, padding = 'SAME')"
   ]
  },
  {
   "cell_type": "code",
   "execution_count": null,
   "id": "dc08164a",
   "metadata": {},
   "outputs": [],
   "source": []
  }
 ],
 "metadata": {
  "kernelspec": {
   "display_name": "Python 3 (ipykernel)",
   "language": "python",
   "name": "python3"
  },
  "language_info": {
   "codemirror_mode": {
    "name": "ipython",
    "version": 3
   },
   "file_extension": ".py",
   "mimetype": "text/x-python",
   "name": "python",
   "nbconvert_exporter": "python",
   "pygments_lexer": "ipython3",
   "version": "3.7.11"
  }
 },
 "nbformat": 4,
 "nbformat_minor": 5
}
